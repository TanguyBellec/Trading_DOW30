{
 "cells": [
  {
   "cell_type": "code",
   "execution_count": 147,
   "id": "48d34ad9",
   "metadata": {},
   "outputs": [],
   "source": [
    "import yfinance as yf\n",
    "import pandas as pd\n",
    "import numpy as np\n",
    "\n",
    "import matplotlib.pyplot as plt\n",
    "\n",
    "from sklearn.ensemble import RandomForestRegressor\n",
    "from sklearn import preprocessing\n"
   ]
  },
  {
   "cell_type": "code",
   "execution_count": 134,
   "id": "b3acff17",
   "metadata": {},
   "outputs": [
    {
     "data": {
      "text/html": [
       "<div>\n",
       "<style scoped>\n",
       "    .dataframe tbody tr th:only-of-type {\n",
       "        vertical-align: middle;\n",
       "    }\n",
       "\n",
       "    .dataframe tbody tr th {\n",
       "        vertical-align: top;\n",
       "    }\n",
       "\n",
       "    .dataframe thead th {\n",
       "        text-align: right;\n",
       "    }\n",
       "</style>\n",
       "<table border=\"1\" class=\"dataframe\">\n",
       "  <thead>\n",
       "    <tr style=\"text-align: right;\">\n",
       "      <th></th>\n",
       "      <th>Open</th>\n",
       "      <th>High</th>\n",
       "      <th>Low</th>\n",
       "      <th>Close</th>\n",
       "      <th>Adj Close</th>\n",
       "      <th>Volume</th>\n",
       "    </tr>\n",
       "    <tr>\n",
       "      <th>Date</th>\n",
       "      <th></th>\n",
       "      <th></th>\n",
       "      <th></th>\n",
       "      <th></th>\n",
       "      <th></th>\n",
       "      <th></th>\n",
       "    </tr>\n",
       "  </thead>\n",
       "  <tbody>\n",
       "    <tr>\n",
       "      <th>2018-12-31</th>\n",
       "      <td>22.519333</td>\n",
       "      <td>22.614000</td>\n",
       "      <td>21.684000</td>\n",
       "      <td>22.186666</td>\n",
       "      <td>22.186666</td>\n",
       "      <td>94534500</td>\n",
       "    </tr>\n",
       "    <tr>\n",
       "      <th>2019-01-02</th>\n",
       "      <td>20.406668</td>\n",
       "      <td>21.008667</td>\n",
       "      <td>19.920000</td>\n",
       "      <td>20.674667</td>\n",
       "      <td>20.674667</td>\n",
       "      <td>174879000</td>\n",
       "    </tr>\n",
       "    <tr>\n",
       "      <th>2019-01-03</th>\n",
       "      <td>20.466667</td>\n",
       "      <td>20.626667</td>\n",
       "      <td>19.825333</td>\n",
       "      <td>20.024000</td>\n",
       "      <td>20.024000</td>\n",
       "      <td>104478000</td>\n",
       "    </tr>\n",
       "    <tr>\n",
       "      <th>2019-01-04</th>\n",
       "      <td>20.400000</td>\n",
       "      <td>21.200001</td>\n",
       "      <td>20.181999</td>\n",
       "      <td>21.179333</td>\n",
       "      <td>21.179333</td>\n",
       "      <td>110911500</td>\n",
       "    </tr>\n",
       "    <tr>\n",
       "      <th>2019-01-07</th>\n",
       "      <td>21.448000</td>\n",
       "      <td>22.449333</td>\n",
       "      <td>21.183332</td>\n",
       "      <td>22.330667</td>\n",
       "      <td>22.330667</td>\n",
       "      <td>113268000</td>\n",
       "    </tr>\n",
       "  </tbody>\n",
       "</table>\n",
       "</div>"
      ],
      "text/plain": [
       "                 Open       High        Low      Close  Adj Close     Volume\n",
       "Date                                                                        \n",
       "2018-12-31  22.519333  22.614000  21.684000  22.186666  22.186666   94534500\n",
       "2019-01-02  20.406668  21.008667  19.920000  20.674667  20.674667  174879000\n",
       "2019-01-03  20.466667  20.626667  19.825333  20.024000  20.024000  104478000\n",
       "2019-01-04  20.400000  21.200001  20.181999  21.179333  21.179333  110911500\n",
       "2019-01-07  21.448000  22.449333  21.183332  22.330667  22.330667  113268000"
      ]
     },
     "execution_count": 134,
     "metadata": {},
     "output_type": "execute_result"
    }
   ],
   "source": [
    "tsla_df = yf.download('TSLA', \n",
    "                      start='2019-01-01', \n",
    "                      end='2019-12-31', \n",
    "                      progress=False)\n",
    "tsla_df.head()"
   ]
  },
  {
   "cell_type": "code",
   "execution_count": 135,
   "id": "644c83db",
   "metadata": {},
   "outputs": [],
   "source": [
    "dow_30_tickers = ['AXP', 'AMGN', 'AAPL', 'BA', 'CAT', 'CSCO',\n",
    "                 'CVX', 'GS', 'HD', 'HON', 'IBM', 'INTC', 'JNJ',\n",
    "                 'KO', 'JPM', 'MCD', 'MMM', 'MRK', 'MSFT', \n",
    "                 'NKE', 'PG', 'TRV', 'UNH', 'CRM', 'VZ', 'V',\n",
    "                 'WBA', 'WMT', 'DIS', 'DOW']"
   ]
  },
  {
   "cell_type": "code",
   "execution_count": 136,
   "id": "f1dcc291",
   "metadata": {},
   "outputs": [],
   "source": [
    "def add_ticker_name(df, ticker):\n",
    "    df.set_axis([ticker + '_' + col for col in list(df.columns)], axis=1, inplace=True)\n",
    "    return df"
   ]
  },
  {
   "cell_type": "markdown",
   "id": "5cf38d8a",
   "metadata": {},
   "source": [
    "On va commencer par prendre un df avec 2 stock, on va calculer les indic (mva, rsi etc) et tout les jours en acheter un et short l'autre"
   ]
  },
  {
   "cell_type": "code",
   "execution_count": 137,
   "id": "d6ac524e",
   "metadata": {
    "scrolled": true
   },
   "outputs": [
    {
     "name": "stdout",
     "output_type": "stream",
     "text": [
      "[*********************100%***********************]  1 of 1 completed\n"
     ]
    }
   ],
   "source": [
    "df = yf.download('AXP', start = '2015-01-01')"
   ]
  },
  {
   "cell_type": "code",
   "execution_count": 138,
   "id": "dc2f63c4",
   "metadata": {},
   "outputs": [],
   "source": [
    "### Functions to get classical Technical Trading indicators\n",
    "\n",
    "# Simple Moving Average \n",
    "def SMA(data, ndays): \n",
    "    data['SMA_'+str(ndays)] = pd.Series(data['Close'].rolling(ndays).mean())\n",
    "    return data\n",
    "\n",
    "# Exponentially-weighted Moving Average \n",
    "def EWMA(data, ndays): \n",
    "    data['EWMA_' + str(ndays)] = pd.Series(data['Close'].ewm(span = ndays, min_periods = ndays - 1).mean())\n",
    "    return data\n",
    "\n",
    "def rsi(df, periods = 14):\n",
    "    \n",
    "    close = df.Close\n",
    "    close_delta = close.diff()\n",
    "\n",
    "    # Make two series: one for lower closes and one for higher closes\n",
    "    up = close_delta.clip(lower=0)\n",
    "    down = -1 * close_delta.clip(upper=0)\n",
    "    \n",
    "    ma_up = up.ewm(com = periods - 1, adjust=True, min_periods = periods).mean()\n",
    "    ma_down = down.ewm(com = periods - 1, adjust=True, min_periods = periods).mean()\n",
    "\n",
    "    rsi = ma_up / ma_down\n",
    "    rsi = 100 - (100/(1 + rsi))\n",
    "    \n",
    "    df['rsi_' + str(periods)] = rsi\n",
    "    return df\n",
    "\n",
    "def gain(x):\n",
    "    return ((x > 0) * x).sum()\n",
    "def loss(x):\n",
    "    return ((x < 0) * x).sum()\n",
    "\n",
    "\n",
    "# Calculate money flow index\n",
    "def mfi(df, n=14):\n",
    "    typical_price = (df.High + df.Low + df.Close)/3\n",
    "    money_flow = typical_price * df.Volume\n",
    "    mf_sign = np.where(typical_price > typical_price.shift(1), 1, -1)\n",
    "    signed_mf = money_flow * mf_sign\n",
    "    mf_avg_gain = signed_mf.rolling(n).apply(gain, raw=True)\n",
    "    mf_avg_loss = signed_mf.rolling(n).apply(loss, raw=True)\n",
    "    mfi = (100 - (100 / (1 + (mf_avg_gain / abs(mf_avg_loss))))).to_numpy()\n",
    "    \n",
    "    df['mfi_' + str(n)] = mfi\n",
    "    \n",
    "    return df\n",
    "    \n",
    "    # Returns ATR values\n",
    "def atr(df, n=14):\n",
    "    tr = np.amax(np.vstack(((df.High - df.Low).to_numpy(), (abs(df.High - df.Close)).to_numpy(), (abs(df.Low - df.Close)).to_numpy())).T, axis=1)    \n",
    "    atr = pd.Series(tr).rolling(n).mean().to_numpy()\n",
    "    df['atr_' + str(n)] = atr\n",
    "    return df\n",
    "\n",
    "def ForceIndex(data, ndays = 1): \n",
    "    data['ForceIndex_' + str(ndays)] = pd.Series(data['Close'].diff(ndays) * data['Volume']) \n",
    "    return data\n",
    "\n",
    "def EMV(data, ndays = 14): \n",
    "    dm = ((data['High'] + data['Low'])/2) - ((data['High'].shift(1) + data['Low'].shift(1))/2)\n",
    "    br = (data['Volume'] / 100000000) / ((data['High'] - data['Low']))\n",
    "    EMV = dm / br \n",
    "    EMV_MA = pd.Series(EMV.rolling(ndays).mean(), name = 'EMV') \n",
    "    data['EMV_MA_' + str(ndays)] = EMV_MA\n",
    "    return data \n",
    "\n",
    "\n",
    "def get_all_technical_indicators(data):\n",
    "\n",
    "    data = SMA(data, 5)\n",
    "    data = SMA(data, 50)\n",
    "    data = SMA(data, 200)\n",
    "    \n",
    "    data = EWMA(data, 5)\n",
    "    data = EWMA(data, 50)\n",
    "    data = EWMA(data, 200)\n",
    "    \n",
    "    data = rsi(data)\n",
    "    data = mfi(data)\n",
    "    data = atr(data)\n",
    "    data = ForceIndex(data)\n",
    "    data = EMV(data)\n",
    "    \n",
    "    return data"
   ]
  },
  {
   "cell_type": "code",
   "execution_count": null,
   "id": "35f66a12",
   "metadata": {},
   "outputs": [],
   "source": []
  },
  {
   "cell_type": "code",
   "execution_count": 139,
   "id": "ac520f54",
   "metadata": {},
   "outputs": [],
   "source": [
    "df = get_all_technical_indicators(df)"
   ]
  },
  {
   "cell_type": "code",
   "execution_count": 140,
   "id": "0e3a7601",
   "metadata": {},
   "outputs": [
    {
     "data": {
      "text/html": [
       "<div>\n",
       "<style scoped>\n",
       "    .dataframe tbody tr th:only-of-type {\n",
       "        vertical-align: middle;\n",
       "    }\n",
       "\n",
       "    .dataframe tbody tr th {\n",
       "        vertical-align: top;\n",
       "    }\n",
       "\n",
       "    .dataframe thead th {\n",
       "        text-align: right;\n",
       "    }\n",
       "</style>\n",
       "<table border=\"1\" class=\"dataframe\">\n",
       "  <thead>\n",
       "    <tr style=\"text-align: right;\">\n",
       "      <th></th>\n",
       "      <th>Open</th>\n",
       "      <th>High</th>\n",
       "      <th>Low</th>\n",
       "      <th>Close</th>\n",
       "      <th>Adj Close</th>\n",
       "      <th>Volume</th>\n",
       "      <th>SMA_5</th>\n",
       "      <th>SMA_50</th>\n",
       "      <th>SMA_200</th>\n",
       "      <th>EWMA_5</th>\n",
       "      <th>EWMA_50</th>\n",
       "      <th>EWMA_200</th>\n",
       "      <th>rsi_14</th>\n",
       "      <th>mfi_14</th>\n",
       "      <th>atr_14</th>\n",
       "      <th>ForceIndex_1</th>\n",
       "      <th>EMV_MA_14</th>\n",
       "    </tr>\n",
       "    <tr>\n",
       "      <th>Date</th>\n",
       "      <th></th>\n",
       "      <th></th>\n",
       "      <th></th>\n",
       "      <th></th>\n",
       "      <th></th>\n",
       "      <th></th>\n",
       "      <th></th>\n",
       "      <th></th>\n",
       "      <th></th>\n",
       "      <th></th>\n",
       "      <th></th>\n",
       "      <th></th>\n",
       "      <th></th>\n",
       "      <th></th>\n",
       "      <th></th>\n",
       "      <th></th>\n",
       "      <th></th>\n",
       "    </tr>\n",
       "  </thead>\n",
       "  <tbody>\n",
       "    <tr>\n",
       "      <th>2022-10-21</th>\n",
       "      <td>140.990005</td>\n",
       "      <td>141.320007</td>\n",
       "      <td>132.210007</td>\n",
       "      <td>140.039993</td>\n",
       "      <td>140.039993</td>\n",
       "      <td>11745300</td>\n",
       "      <td>142.791998</td>\n",
       "      <td>149.669800</td>\n",
       "      <td>163.63290</td>\n",
       "      <td>141.638097</td>\n",
       "      <td>146.586403</td>\n",
       "      <td>156.861335</td>\n",
       "      <td>45.284982</td>\n",
       "      <td>35.637821</td>\n",
       "      <td>4.698574</td>\n",
       "      <td>-2.795387e+07</td>\n",
       "      <td>1.281224</td>\n",
       "    </tr>\n",
       "    <tr>\n",
       "      <th>2022-10-24</th>\n",
       "      <td>141.300003</td>\n",
       "      <td>143.789993</td>\n",
       "      <td>140.369995</td>\n",
       "      <td>141.630005</td>\n",
       "      <td>141.630005</td>\n",
       "      <td>4299600</td>\n",
       "      <td>142.810001</td>\n",
       "      <td>149.185600</td>\n",
       "      <td>163.47655</td>\n",
       "      <td>141.635400</td>\n",
       "      <td>146.392035</td>\n",
       "      <td>156.709780</td>\n",
       "      <td>47.577284</td>\n",
       "      <td>37.842221</td>\n",
       "      <td>4.762859</td>\n",
       "      <td>6.836414e+06</td>\n",
       "      <td>-16.682195</td>\n",
       "    </tr>\n",
       "    <tr>\n",
       "      <th>2022-10-25</th>\n",
       "      <td>142.479996</td>\n",
       "      <td>147.440002</td>\n",
       "      <td>141.600006</td>\n",
       "      <td>147.020004</td>\n",
       "      <td>147.020004</td>\n",
       "      <td>3889100</td>\n",
       "      <td>143.016000</td>\n",
       "      <td>148.818000</td>\n",
       "      <td>163.33975</td>\n",
       "      <td>143.430268</td>\n",
       "      <td>146.416661</td>\n",
       "      <td>156.613364</td>\n",
       "      <td>54.531512</td>\n",
       "      <td>43.713049</td>\n",
       "      <td>4.950716</td>\n",
       "      <td>2.096225e+07</td>\n",
       "      <td>16.178296</td>\n",
       "    </tr>\n",
       "    <tr>\n",
       "      <th>2022-10-26</th>\n",
       "      <td>147.559998</td>\n",
       "      <td>149.500000</td>\n",
       "      <td>146.470001</td>\n",
       "      <td>146.880005</td>\n",
       "      <td>146.880005</td>\n",
       "      <td>3559100</td>\n",
       "      <td>143.598001</td>\n",
       "      <td>148.448600</td>\n",
       "      <td>163.20545</td>\n",
       "      <td>144.580180</td>\n",
       "      <td>146.434831</td>\n",
       "      <td>156.516515</td>\n",
       "      <td>54.329912</td>\n",
       "      <td>49.334985</td>\n",
       "      <td>4.957860</td>\n",
       "      <td>-4.982718e+05</td>\n",
       "      <td>37.994543</td>\n",
       "    </tr>\n",
       "    <tr>\n",
       "      <th>2022-10-27</th>\n",
       "      <td>148.440002</td>\n",
       "      <td>149.710007</td>\n",
       "      <td>146.410004</td>\n",
       "      <td>146.970001</td>\n",
       "      <td>146.970001</td>\n",
       "      <td>2101300</td>\n",
       "      <td>144.508002</td>\n",
       "      <td>148.110001</td>\n",
       "      <td>163.06340</td>\n",
       "      <td>145.376787</td>\n",
       "      <td>146.455818</td>\n",
       "      <td>156.421524</td>\n",
       "      <td>54.446499</td>\n",
       "      <td>53.506562</td>\n",
       "      <td>4.964289</td>\n",
       "      <td>1.891093e+05</td>\n",
       "      <td>73.594968</td>\n",
       "    </tr>\n",
       "  </tbody>\n",
       "</table>\n",
       "</div>"
      ],
      "text/plain": [
       "                  Open        High         Low       Close   Adj Close  \\\n",
       "Date                                                                     \n",
       "2022-10-21  140.990005  141.320007  132.210007  140.039993  140.039993   \n",
       "2022-10-24  141.300003  143.789993  140.369995  141.630005  141.630005   \n",
       "2022-10-25  142.479996  147.440002  141.600006  147.020004  147.020004   \n",
       "2022-10-26  147.559998  149.500000  146.470001  146.880005  146.880005   \n",
       "2022-10-27  148.440002  149.710007  146.410004  146.970001  146.970001   \n",
       "\n",
       "              Volume       SMA_5      SMA_50    SMA_200      EWMA_5  \\\n",
       "Date                                                                  \n",
       "2022-10-21  11745300  142.791998  149.669800  163.63290  141.638097   \n",
       "2022-10-24   4299600  142.810001  149.185600  163.47655  141.635400   \n",
       "2022-10-25   3889100  143.016000  148.818000  163.33975  143.430268   \n",
       "2022-10-26   3559100  143.598001  148.448600  163.20545  144.580180   \n",
       "2022-10-27   2101300  144.508002  148.110001  163.06340  145.376787   \n",
       "\n",
       "               EWMA_50    EWMA_200     rsi_14     mfi_14    atr_14  \\\n",
       "Date                                                                 \n",
       "2022-10-21  146.586403  156.861335  45.284982  35.637821  4.698574   \n",
       "2022-10-24  146.392035  156.709780  47.577284  37.842221  4.762859   \n",
       "2022-10-25  146.416661  156.613364  54.531512  43.713049  4.950716   \n",
       "2022-10-26  146.434831  156.516515  54.329912  49.334985  4.957860   \n",
       "2022-10-27  146.455818  156.421524  54.446499  53.506562  4.964289   \n",
       "\n",
       "            ForceIndex_1  EMV_MA_14  \n",
       "Date                                 \n",
       "2022-10-21 -2.795387e+07   1.281224  \n",
       "2022-10-24  6.836414e+06 -16.682195  \n",
       "2022-10-25  2.096225e+07  16.178296  \n",
       "2022-10-26 -4.982718e+05  37.994543  \n",
       "2022-10-27  1.891093e+05  73.594968  "
      ]
     },
     "execution_count": 140,
     "metadata": {},
     "output_type": "execute_result"
    }
   ],
   "source": [
    "df.tail()"
   ]
  },
  {
   "cell_type": "code",
   "execution_count": 170,
   "id": "70f965ac",
   "metadata": {},
   "outputs": [],
   "source": [
    "# Function to prepare data for models\n",
    "\n",
    "# add label to data (one day return):\n",
    "\n",
    "def add_next_day_return(df):\n",
    "    \n",
    "    close_start = np.array(df.Close[0:-1])\n",
    "    close_end = np.array(df.Close[1:])\n",
    "    one_day_return = (close_end - close_start) / close_start    \n",
    "    \n",
    "    df = df[0:-1]\n",
    "    #df['One_day_return'] = one_day_return\n",
    "    df.loc[:,'Next_day_return'] = one_day_return\n",
    "    \n",
    "    return df\n",
    "\n",
    "\n",
    "def sep_train_test(df, date_start_train = '2015-01-01', date_end_train = '2021-01-01'):\n",
    "    \n",
    "    df = df.dropna()\n",
    "    \n",
    "    train = df[df.index < date_end_train]\n",
    "    train = train[train.index >= date_start_train]\n",
    "    \n",
    "    test = df[df.index >= date_end_train]\n",
    "    \n",
    "    y_train = train.pop('Next_day_return')\n",
    "    \n",
    "    y_test = test.pop('Next_day_return')\n",
    "\n",
    "    \n",
    "    return train, y_train, test, y_test\n",
    "\n",
    "\n",
    "def sep_train_test(df, date_start_train = '2015-01-01', date_end_train = '2021-01-01'):\n",
    "    \n",
    "    df = df.dropna()\n",
    "    \n",
    "    train = df[df.index < date_end_train]\n",
    "    train = train[train.index >= date_start_train]\n",
    "    \n",
    "    test = df[df.index >= date_end_train]\n",
    "    \n",
    "    y_train = train.pop('Next_day_return')\n",
    "    \n",
    "    y_test = test.pop('Next_day_return')\n",
    "\n",
    "    \n",
    "    return train, y_train, test, y_test\n",
    "\n",
    "\n",
    "\n",
    "def sep_train_test_scaled(df, date_start_train = '2015-01-01', date_end_train = '2021-01-01'):\n",
    "    \n",
    "    df = df.dropna()\n",
    "    \n",
    "    \n",
    "    x = df.values\n",
    "    min_max_scaler = preprocessing.MinMaxScaler()\n",
    "    x_scaled = min_max_scaler.fit_transform(x)\n",
    "    df_scaled = pd.DataFrame(x_scaled)\n",
    "\n",
    "    \n",
    "    train = df_scaled[df_scaled.index < len(df[df.index < '2021-01-01'])]\n",
    "    #train = train[train.index >= date_start_train]\n",
    "    \n",
    "    test = df_scaled[df_scaled.index >= len(df[df.index < '2021-01-01'])]\n",
    "    \n",
    "    y_train = train.pop(list(df_scaled.columns)[-1])\n",
    "    \n",
    "    y_test = test.pop(list(df_scaled.columns)[-1])\n",
    "\n",
    "    \n",
    "    return train, y_train, test, y_test\n",
    "\n"
   ]
  },
  {
   "cell_type": "code",
   "execution_count": 203,
   "id": "a8c3c80a",
   "metadata": {},
   "outputs": [
    {
     "name": "stderr",
     "output_type": "stream",
     "text": [
      "/var/folders/9y/9ztxqzcx64j6np_fxsty2gy80000gn/T/ipykernel_13715/4193621717.py:13: SettingWithCopyWarning: \n",
      "A value is trying to be set on a copy of a slice from a DataFrame.\n",
      "Try using .loc[row_indexer,col_indexer] = value instead\n",
      "\n",
      "See the caveats in the documentation: https://pandas.pydata.org/pandas-docs/stable/user_guide/indexing.html#returning-a-view-versus-a-copy\n",
      "  df.loc[:,'Next_day_return'] = one_day_return\n"
     ]
    }
   ],
   "source": [
    "df = add_next_day_return(df)\n",
    "\n",
    "date_start_train = '2015-01-01'\n",
    "date_end_train = '2021-01-01'\n",
    "\n",
    "X_train, y_train, X_test, y_test = sep_train_test(df, date_start_train, date_end_train)\n",
    "\n",
    "X_scaled_train, y_scaled_train, X_scaled_test, y_scaled_test = sep_train_test_scaled(df, date_start_train, date_end_train)"
   ]
  },
  {
   "cell_type": "code",
   "execution_count": 213,
   "id": "d9e8dc6f",
   "metadata": {},
   "outputs": [],
   "source": [
    "X_scaled_train.index = list(X_train.index)\n",
    "y_scaled_train.index = list(y_train.index)\n",
    "X_scaled_test.index = list(X_test.index)\n",
    "y_scaled_test.index = list(y_test.index)"
   ]
  },
  {
   "cell_type": "code",
   "execution_count": 205,
   "id": "7f407b1b",
   "metadata": {},
   "outputs": [
    {
     "data": {
      "text/plain": [
       "1313"
      ]
     },
     "execution_count": 205,
     "metadata": {},
     "output_type": "execute_result"
    }
   ],
   "source": [
    "len(X_scaled_train)"
   ]
  },
  {
   "cell_type": "code",
   "execution_count": 217,
   "id": "d667a43a",
   "metadata": {},
   "outputs": [
    {
     "data": {
      "text/plain": [
       "453"
      ]
     },
     "execution_count": 217,
     "metadata": {},
     "output_type": "execute_result"
    }
   ],
   "source": [
    "len(X_test)"
   ]
  },
  {
   "cell_type": "code",
   "execution_count": 218,
   "id": "544efbfc",
   "metadata": {},
   "outputs": [
    {
     "data": {
      "text/plain": [
       "453"
      ]
     },
     "execution_count": 218,
     "metadata": {},
     "output_type": "execute_result"
    }
   ],
   "source": [
    "len(X_scaled_test)"
   ]
  },
  {
   "cell_type": "markdown",
   "id": "7da05444",
   "metadata": {},
   "source": [
    "## First test : try to do a regression on one day return for one stock"
   ]
  },
  {
   "cell_type": "markdown",
   "id": "361c4cf4",
   "metadata": {},
   "source": [
    "### RF Regressor"
   ]
  },
  {
   "cell_type": "code",
   "execution_count": 220,
   "id": "81ea207e",
   "metadata": {},
   "outputs": [],
   "source": [
    "RF_reg = RandomForestRegressor(max_depth=10, random_state=0)\n",
    "RF_reg.fit(X_scaled_train, y_scaled_train)\n",
    "\n",
    "y_scaled_pred = RF_reg.predict(X_scaled_test)\n",
    "y_scaled_train_pred = RF_reg.predict(X_scaled_train)"
   ]
  },
  {
   "cell_type": "code",
   "execution_count": 181,
   "id": "4e83fdf5",
   "metadata": {},
   "outputs": [],
   "source": [
    "new = pd.DataFrame(y_train, y_train_pred)"
   ]
  },
  {
   "cell_type": "code",
   "execution_count": 182,
   "id": "bdbc8a7f",
   "metadata": {},
   "outputs": [],
   "source": [
    "test_res = X_train.copy()\n",
    "test_res['y_train_pred'] = y_train_pred\n",
    "test_res['y_train'] = y_train\n",
    "test_res = test_res[['y_train', 'y_train_pred']]"
   ]
  },
  {
   "cell_type": "code",
   "execution_count": 187,
   "id": "a947a645",
   "metadata": {},
   "outputs": [
    {
     "name": "stdout",
     "output_type": "stream",
     "text": [
      "0.12406805276750886\n",
      "0.40185876921364816\n",
      "0.40409958801836504\n",
      "0.40485866847230884\n",
      "0.40516748922544893\n",
      "0.40529513759295627\n",
      "0.40539934839086755\n",
      "0.405528753820287\n",
      "0.4059638735689763\n",
      "0.408806368826515\n"
     ]
    }
   ],
   "source": [
    "for i in range(10):\n",
    "    print(test_res['y_train_pred'].quantile(i/10))"
   ]
  },
  {
   "cell_type": "code",
   "execution_count": 195,
   "id": "99565f1c",
   "metadata": {},
   "outputs": [
    {
     "data": {
      "text/plain": [
       "0.3724624223673838"
      ]
     },
     "execution_count": 195,
     "metadata": {},
     "output_type": "execute_result"
    }
   ],
   "source": [
    "np.quantile(y_pred, 0.75)"
   ]
  },
  {
   "cell_type": "code",
   "execution_count": 183,
   "id": "a31ef436",
   "metadata": {},
   "outputs": [
    {
     "data": {
      "text/plain": [
       "26.450761122537443"
      ]
     },
     "execution_count": 183,
     "metadata": {},
     "output_type": "execute_result"
    }
   ],
   "source": [
    "def mean_absolute_percentage_error(y_true, y_pred): \n",
    "\n",
    "    return np.mean(np.abs((y_true - y_pred) / y_true)) * 100\n",
    "\n",
    "mean_absolute_percentage_error(y_test, y_pred)"
   ]
  },
  {
   "cell_type": "markdown",
   "id": "5eced09f",
   "metadata": {},
   "source": [
    "## Implement our strategy\n",
    "\n",
    "We will buy the stock at Close Price if we have a buy signal and sell it at Close Price as soon as the buy signal is over"
   ]
  },
  {
   "cell_type": "code",
   "execution_count": 221,
   "id": "65aadaca",
   "metadata": {},
   "outputs": [],
   "source": [
    "test = X_scaled_test\n",
    "test['y_pred'] = y_scaled_pred\n",
    "\n",
    "def buy_signal(row):\n",
    "    if(row['y_pred'] < np.quantile(y_pred, 0.75)):\n",
    "        val = 0\n",
    "    else:\n",
    "        val = 1\n",
    "    return val\n",
    "\n",
    "test['buy_signal'] = test.apply(buy_signal, axis=1)\n"
   ]
  },
  {
   "cell_type": "code",
   "execution_count": 222,
   "id": "82c3c08c",
   "metadata": {},
   "outputs": [],
   "source": [
    "X_test['buy_signal'] = test['buy_signal']"
   ]
  },
  {
   "cell_type": "code",
   "execution_count": 223,
   "id": "4b447753",
   "metadata": {},
   "outputs": [
    {
     "data": {
      "text/html": [
       "<div>\n",
       "<style scoped>\n",
       "    .dataframe tbody tr th:only-of-type {\n",
       "        vertical-align: middle;\n",
       "    }\n",
       "\n",
       "    .dataframe tbody tr th {\n",
       "        vertical-align: top;\n",
       "    }\n",
       "\n",
       "    .dataframe thead th {\n",
       "        text-align: right;\n",
       "    }\n",
       "</style>\n",
       "<table border=\"1\" class=\"dataframe\">\n",
       "  <thead>\n",
       "    <tr style=\"text-align: right;\">\n",
       "      <th></th>\n",
       "      <th>Open</th>\n",
       "      <th>High</th>\n",
       "      <th>Low</th>\n",
       "      <th>Close</th>\n",
       "      <th>Adj Close</th>\n",
       "      <th>Volume</th>\n",
       "      <th>SMA_5</th>\n",
       "      <th>SMA_50</th>\n",
       "      <th>SMA_200</th>\n",
       "      <th>EWMA_5</th>\n",
       "      <th>EWMA_50</th>\n",
       "      <th>EWMA_200</th>\n",
       "      <th>rsi_14</th>\n",
       "      <th>mfi_14</th>\n",
       "      <th>atr_14</th>\n",
       "      <th>ForceIndex_1</th>\n",
       "      <th>EMV_MA_14</th>\n",
       "      <th>buy_signal</th>\n",
       "    </tr>\n",
       "    <tr>\n",
       "      <th>Date</th>\n",
       "      <th></th>\n",
       "      <th></th>\n",
       "      <th></th>\n",
       "      <th></th>\n",
       "      <th></th>\n",
       "      <th></th>\n",
       "      <th></th>\n",
       "      <th></th>\n",
       "      <th></th>\n",
       "      <th></th>\n",
       "      <th></th>\n",
       "      <th></th>\n",
       "      <th></th>\n",
       "      <th></th>\n",
       "      <th></th>\n",
       "      <th></th>\n",
       "      <th></th>\n",
       "      <th></th>\n",
       "    </tr>\n",
       "  </thead>\n",
       "  <tbody>\n",
       "    <tr>\n",
       "      <th>2021-01-04</th>\n",
       "      <td>121.300003</td>\n",
       "      <td>121.800003</td>\n",
       "      <td>116.849998</td>\n",
       "      <td>118.040001</td>\n",
       "      <td>115.185806</td>\n",
       "      <td>3472100</td>\n",
       "      <td>118.976001</td>\n",
       "      <td>112.9798</td>\n",
       "      <td>99.88940</td>\n",
       "      <td>118.781698</td>\n",
       "      <td>114.443484</td>\n",
       "      <td>107.009248</td>\n",
       "      <td>51.298608</td>\n",
       "      <td>35.758067</td>\n",
       "      <td>2.575714</td>\n",
       "      <td>-9.964937e+06</td>\n",
       "      <td>-6.783815</td>\n",
       "      <td>1</td>\n",
       "    </tr>\n",
       "    <tr>\n",
       "      <th>2021-01-05</th>\n",
       "      <td>118.260002</td>\n",
       "      <td>119.279999</td>\n",
       "      <td>117.099998</td>\n",
       "      <td>118.669998</td>\n",
       "      <td>115.800575</td>\n",
       "      <td>2112700</td>\n",
       "      <td>119.038000</td>\n",
       "      <td>113.2574</td>\n",
       "      <td>100.11215</td>\n",
       "      <td>118.744464</td>\n",
       "      <td>114.609229</td>\n",
       "      <td>107.125276</td>\n",
       "      <td>52.789745</td>\n",
       "      <td>38.383854</td>\n",
       "      <td>2.364286</td>\n",
       "      <td>1.330995e+06</td>\n",
       "      <td>-12.053203</td>\n",
       "      <td>1</td>\n",
       "    </tr>\n",
       "    <tr>\n",
       "      <th>2021-01-06</th>\n",
       "      <td>121.000000</td>\n",
       "      <td>124.730003</td>\n",
       "      <td>120.809998</td>\n",
       "      <td>123.059998</td>\n",
       "      <td>120.084427</td>\n",
       "      <td>5861500</td>\n",
       "      <td>120.022000</td>\n",
       "      <td>113.6990</td>\n",
       "      <td>100.38265</td>\n",
       "      <td>120.182975</td>\n",
       "      <td>114.940632</td>\n",
       "      <td>107.283830</td>\n",
       "      <td>61.610392</td>\n",
       "      <td>50.400996</td>\n",
       "      <td>2.376429</td>\n",
       "      <td>2.573198e+07</td>\n",
       "      <td>20.382418</td>\n",
       "      <td>1</td>\n",
       "    </tr>\n",
       "    <tr>\n",
       "      <th>2021-01-07</th>\n",
       "      <td>124.099998</td>\n",
       "      <td>125.690002</td>\n",
       "      <td>117.349998</td>\n",
       "      <td>121.660004</td>\n",
       "      <td>119.134560</td>\n",
       "      <td>8696600</td>\n",
       "      <td>120.468001</td>\n",
       "      <td>114.1946</td>\n",
       "      <td>100.57070</td>\n",
       "      <td>120.675318</td>\n",
       "      <td>115.204137</td>\n",
       "      <td>107.426877</td>\n",
       "      <td>57.895427</td>\n",
       "      <td>38.830844</td>\n",
       "      <td>2.878572</td>\n",
       "      <td>-1.217519e+07</td>\n",
       "      <td>7.051911</td>\n",
       "      <td>1</td>\n",
       "    </tr>\n",
       "    <tr>\n",
       "      <th>2021-01-08</th>\n",
       "      <td>122.070000</td>\n",
       "      <td>122.199997</td>\n",
       "      <td>119.519997</td>\n",
       "      <td>121.779999</td>\n",
       "      <td>119.252083</td>\n",
       "      <td>2934500</td>\n",
       "      <td>120.642000</td>\n",
       "      <td>114.7316</td>\n",
       "      <td>100.72875</td>\n",
       "      <td>121.043545</td>\n",
       "      <td>115.462014</td>\n",
       "      <td>107.569694</td>\n",
       "      <td>58.128473</td>\n",
       "      <td>32.001130</td>\n",
       "      <td>2.983572</td>\n",
       "      <td>3.521257e+05</td>\n",
       "      <td>2.446571</td>\n",
       "      <td>1</td>\n",
       "    </tr>\n",
       "    <tr>\n",
       "      <th>...</th>\n",
       "      <td>...</td>\n",
       "      <td>...</td>\n",
       "      <td>...</td>\n",
       "      <td>...</td>\n",
       "      <td>...</td>\n",
       "      <td>...</td>\n",
       "      <td>...</td>\n",
       "      <td>...</td>\n",
       "      <td>...</td>\n",
       "      <td>...</td>\n",
       "      <td>...</td>\n",
       "      <td>...</td>\n",
       "      <td>...</td>\n",
       "      <td>...</td>\n",
       "      <td>...</td>\n",
       "      <td>...</td>\n",
       "      <td>...</td>\n",
       "      <td>...</td>\n",
       "    </tr>\n",
       "    <tr>\n",
       "      <th>2022-10-13</th>\n",
       "      <td>131.350006</td>\n",
       "      <td>142.550003</td>\n",
       "      <td>130.649994</td>\n",
       "      <td>141.550003</td>\n",
       "      <td>141.550003</td>\n",
       "      <td>5232300</td>\n",
       "      <td>138.430002</td>\n",
       "      <td>151.7722</td>\n",
       "      <td>164.40490</td>\n",
       "      <td>139.383352</td>\n",
       "      <td>147.872540</td>\n",
       "      <td>157.792150</td>\n",
       "      <td>45.829671</td>\n",
       "      <td>36.181186</td>\n",
       "      <td>4.300000</td>\n",
       "      <td>2.516735e+07</td>\n",
       "      <td>-43.252128</td>\n",
       "      <td>0</td>\n",
       "    </tr>\n",
       "    <tr>\n",
       "      <th>2022-10-14</th>\n",
       "      <td>142.960007</td>\n",
       "      <td>143.880005</td>\n",
       "      <td>136.139999</td>\n",
       "      <td>136.809998</td>\n",
       "      <td>136.809998</td>\n",
       "      <td>3871900</td>\n",
       "      <td>137.992001</td>\n",
       "      <td>151.3710</td>\n",
       "      <td>164.26980</td>\n",
       "      <td>138.525567</td>\n",
       "      <td>147.438714</td>\n",
       "      <td>157.583372</td>\n",
       "      <td>40.174411</td>\n",
       "      <td>45.041168</td>\n",
       "      <td>4.525000</td>\n",
       "      <td>-1.835283e+07</td>\n",
       "      <td>14.304743</td>\n",
       "      <td>0</td>\n",
       "    </tr>\n",
       "    <tr>\n",
       "      <th>2022-10-17</th>\n",
       "      <td>140.580002</td>\n",
       "      <td>142.220001</td>\n",
       "      <td>140.089996</td>\n",
       "      <td>141.539993</td>\n",
       "      <td>141.539993</td>\n",
       "      <td>3139300</td>\n",
       "      <td>138.798001</td>\n",
       "      <td>151.0516</td>\n",
       "      <td>164.15670</td>\n",
       "      <td>139.530376</td>\n",
       "      <td>147.207392</td>\n",
       "      <td>157.423736</td>\n",
       "      <td>47.178948</td>\n",
       "      <td>51.939608</td>\n",
       "      <td>4.371429</td>\n",
       "      <td>1.484888e+07</td>\n",
       "      <td>28.013477</td>\n",
       "      <td>0</td>\n",
       "    </tr>\n",
       "    <tr>\n",
       "      <th>2022-10-18</th>\n",
       "      <td>146.130005</td>\n",
       "      <td>147.050003</td>\n",
       "      <td>143.550003</td>\n",
       "      <td>145.990005</td>\n",
       "      <td>145.990005</td>\n",
       "      <td>3963300</td>\n",
       "      <td>140.526001</td>\n",
       "      <td>150.8258</td>\n",
       "      <td>164.06865</td>\n",
       "      <td>141.683586</td>\n",
       "      <td>147.159651</td>\n",
       "      <td>157.309968</td>\n",
       "      <td>52.780391</td>\n",
       "      <td>50.658679</td>\n",
       "      <td>4.288573</td>\n",
       "      <td>1.763673e+07</td>\n",
       "      <td>50.306527</td>\n",
       "      <td>0</td>\n",
       "    </tr>\n",
       "    <tr>\n",
       "      <th>2022-10-19</th>\n",
       "      <td>145.429993</td>\n",
       "      <td>147.070007</td>\n",
       "      <td>142.600006</td>\n",
       "      <td>143.970001</td>\n",
       "      <td>143.970001</td>\n",
       "      <td>2803900</td>\n",
       "      <td>141.972000</td>\n",
       "      <td>150.5292</td>\n",
       "      <td>163.94745</td>\n",
       "      <td>142.445724</td>\n",
       "      <td>147.034567</td>\n",
       "      <td>157.177232</td>\n",
       "      <td>50.179086</td>\n",
       "      <td>49.887011</td>\n",
       "      <td>4.385716</td>\n",
       "      <td>-5.663890e+06</td>\n",
       "      <td>59.183411</td>\n",
       "      <td>0</td>\n",
       "    </tr>\n",
       "  </tbody>\n",
       "</table>\n",
       "<p>453 rows × 18 columns</p>\n",
       "</div>"
      ],
      "text/plain": [
       "                  Open        High         Low       Close   Adj Close  \\\n",
       "Date                                                                     \n",
       "2021-01-04  121.300003  121.800003  116.849998  118.040001  115.185806   \n",
       "2021-01-05  118.260002  119.279999  117.099998  118.669998  115.800575   \n",
       "2021-01-06  121.000000  124.730003  120.809998  123.059998  120.084427   \n",
       "2021-01-07  124.099998  125.690002  117.349998  121.660004  119.134560   \n",
       "2021-01-08  122.070000  122.199997  119.519997  121.779999  119.252083   \n",
       "...                ...         ...         ...         ...         ...   \n",
       "2022-10-13  131.350006  142.550003  130.649994  141.550003  141.550003   \n",
       "2022-10-14  142.960007  143.880005  136.139999  136.809998  136.809998   \n",
       "2022-10-17  140.580002  142.220001  140.089996  141.539993  141.539993   \n",
       "2022-10-18  146.130005  147.050003  143.550003  145.990005  145.990005   \n",
       "2022-10-19  145.429993  147.070007  142.600006  143.970001  143.970001   \n",
       "\n",
       "             Volume       SMA_5    SMA_50    SMA_200      EWMA_5     EWMA_50  \\\n",
       "Date                                                                           \n",
       "2021-01-04  3472100  118.976001  112.9798   99.88940  118.781698  114.443484   \n",
       "2021-01-05  2112700  119.038000  113.2574  100.11215  118.744464  114.609229   \n",
       "2021-01-06  5861500  120.022000  113.6990  100.38265  120.182975  114.940632   \n",
       "2021-01-07  8696600  120.468001  114.1946  100.57070  120.675318  115.204137   \n",
       "2021-01-08  2934500  120.642000  114.7316  100.72875  121.043545  115.462014   \n",
       "...             ...         ...       ...        ...         ...         ...   \n",
       "2022-10-13  5232300  138.430002  151.7722  164.40490  139.383352  147.872540   \n",
       "2022-10-14  3871900  137.992001  151.3710  164.26980  138.525567  147.438714   \n",
       "2022-10-17  3139300  138.798001  151.0516  164.15670  139.530376  147.207392   \n",
       "2022-10-18  3963300  140.526001  150.8258  164.06865  141.683586  147.159651   \n",
       "2022-10-19  2803900  141.972000  150.5292  163.94745  142.445724  147.034567   \n",
       "\n",
       "              EWMA_200     rsi_14     mfi_14    atr_14  ForceIndex_1  \\\n",
       "Date                                                                   \n",
       "2021-01-04  107.009248  51.298608  35.758067  2.575714 -9.964937e+06   \n",
       "2021-01-05  107.125276  52.789745  38.383854  2.364286  1.330995e+06   \n",
       "2021-01-06  107.283830  61.610392  50.400996  2.376429  2.573198e+07   \n",
       "2021-01-07  107.426877  57.895427  38.830844  2.878572 -1.217519e+07   \n",
       "2021-01-08  107.569694  58.128473  32.001130  2.983572  3.521257e+05   \n",
       "...                ...        ...        ...       ...           ...   \n",
       "2022-10-13  157.792150  45.829671  36.181186  4.300000  2.516735e+07   \n",
       "2022-10-14  157.583372  40.174411  45.041168  4.525000 -1.835283e+07   \n",
       "2022-10-17  157.423736  47.178948  51.939608  4.371429  1.484888e+07   \n",
       "2022-10-18  157.309968  52.780391  50.658679  4.288573  1.763673e+07   \n",
       "2022-10-19  157.177232  50.179086  49.887011  4.385716 -5.663890e+06   \n",
       "\n",
       "            EMV_MA_14  buy_signal  \n",
       "Date                               \n",
       "2021-01-04  -6.783815           1  \n",
       "2021-01-05 -12.053203           1  \n",
       "2021-01-06  20.382418           1  \n",
       "2021-01-07   7.051911           1  \n",
       "2021-01-08   2.446571           1  \n",
       "...               ...         ...  \n",
       "2022-10-13 -43.252128           0  \n",
       "2022-10-14  14.304743           0  \n",
       "2022-10-17  28.013477           0  \n",
       "2022-10-18  50.306527           0  \n",
       "2022-10-19  59.183411           0  \n",
       "\n",
       "[453 rows x 18 columns]"
      ]
     },
     "execution_count": 223,
     "metadata": {},
     "output_type": "execute_result"
    }
   ],
   "source": [
    "X_test"
   ]
  },
  {
   "cell_type": "code",
   "execution_count": 198,
   "id": "594bdb60",
   "metadata": {},
   "outputs": [
    {
     "data": {
      "text/plain": [
       "[<matplotlib.lines.Line2D at 0x12d37da30>]"
      ]
     },
     "execution_count": 198,
     "metadata": {},
     "output_type": "execute_result"
    },
    {
     "data": {
      "image/png": "[encoded data removed]",
      "text/plain": [
       "<Figure size 432x288 with 1 Axes>"
      ]
     },
     "metadata": {
      "needs_background": "light"
     },
     "output_type": "display_data"
    }
   ],
   "source": [
    "plt.plot(test['y_pred'])"
   ]
  },
  {
   "cell_type": "code",
   "execution_count": 237,
   "id": "2f654102",
   "metadata": {},
   "outputs": [],
   "source": [
    "# We only buy one stock and sell one stock\n",
    "\n",
    "trades = []\n",
    "\n",
    "shares_bought = [0 for i in range(len(X_test))]\n",
    "shares_sold = [0 for i in range(len(X_test))]\n",
    "\n",
    "\n",
    "i = 0\n",
    "is_bought = 0\n",
    "while(i < (len(X_test))):\n",
    "    if(is_bought):\n",
    "        if(X_test.iloc[i]['buy_signal'] == 0):\n",
    "            price_sell = X_test.iloc[i]['Close']\n",
    "            trades.append(price_sell - price_bought)\n",
    "            is_bought = 0\n",
    "    else:\n",
    "        if((X_test.iloc[i]['buy_signal'] == 1)):\n",
    "            price_bought = X_test.iloc[i]['Close']\n",
    "            is_bought = 1\n",
    "    i += 1\n",
    "    "
   ]
  },
  {
   "cell_type": "code",
   "execution_count": 252,
   "id": "d3c28d8c",
   "metadata": {},
   "outputs": [],
   "source": [
    "# We invest money_invested on our strategy\n",
    "\n",
    "trades = []\n",
    "money_invested = 10000\n",
    "\n",
    "money_available = money_invested\n",
    "current_portfolio_value = []\n",
    "\n",
    "num_shares_bought = [0 for i in range(len(X_test))]\n",
    "num_shares_sold = [0 for i in range(len(X_test))]\n",
    "\n",
    "\n",
    "i = 0\n",
    "is_bought = 0\n",
    "current_num_shares = 0\n",
    "\n",
    "while(i < (len(X_test))):\n",
    "    if(is_bought):\n",
    "        if(X_test.iloc[i]['buy_signal'] == 0):\n",
    "            price_sell = X_test.iloc[i]['Close']\n",
    "            #trades.append(price_sell - price_bought)\n",
    "            is_bought = 0\n",
    "            \n",
    "            num_shares_sold[i] = current_num_shares\n",
    "            money_available += current_num_shares * price_sell\n",
    "            \n",
    "            current_num_shares = 0\n",
    "            \n",
    "    else:\n",
    "        if((X_test.iloc[i]['buy_signal'] == 1)):\n",
    "            price_bought = X_test.iloc[i]['Close']\n",
    "            is_bought = 1\n",
    "            \n",
    "            num_shares_bought[i] = money_available // X_test.iloc[i].Close\n",
    "            current_num_shares = num_shares_bought[i]\n",
    "            money_available -=  current_num_shares * price_bought\n",
    "            #current_portfolio = current_portfolio - num_shares * X_test.iloc[0].Close\n",
    "            \n",
    "    current_portfolio_value.append(money_available + current_num_shares * X_test.iloc[i].Close)\n",
    "    \n",
    "    i += 1\n",
    "    "
   ]
  },
  {
   "cell_type": "code",
   "execution_count": 262,
   "id": "5d0687d4",
   "metadata": {},
   "outputs": [],
   "source": [
    "# Baseline : buy and hold strategy\n",
    "\n",
    "money_invested = 10000\n",
    "money_available_baseline = money_invested\n",
    "\n",
    "current_portfolio_baseline_value = []\n",
    "\n",
    "num_shares_baseline =  money_invested // X_test.iloc[0]['Close']\n",
    "money_available_baseline = money_invested % X_test.iloc[0]['Close']\n",
    "\n",
    "for i in range(len(X_test)):\n",
    "    current_portfolio_baseline_value.append(money_available_baseline + num_shares_baseline * X_test.iloc[i].Close)"
   ]
  },
  {
   "cell_type": "code",
   "execution_count": 264,
   "id": "b4723a85",
   "metadata": {},
   "outputs": [
    {
     "data": {
      "text/plain": [
       "[<matplotlib.lines.Line2D at 0x12f0ec5e0>]"
      ]
     },
     "execution_count": 264,
     "metadata": {},
     "output_type": "execute_result"
    },
    {
     "data": {
      "image/png": "[encoded data removed]",
      "text/plain": [
       "<Figure size 432x288 with 1 Axes>"
      ]
     },
     "metadata": {
      "needs_background": "light"
     },
     "output_type": "display_data"
    }
   ],
   "source": [
    "plt.plot(current_portfolio_baseline_value)"
   ]
  },
  {
   "cell_type": "code",
   "execution_count": 254,
   "id": "8f721f1a",
   "metadata": {},
   "outputs": [
    {
     "data": {
      "text/plain": [
       "[<matplotlib.lines.Line2D at 0x12ed9aee0>]"
      ]
     },
     "execution_count": 254,
     "metadata": {},
     "output_type": "execute_result"
    },
    {
     "data": {
      "image/png": "[encoded data removed]",
      "text/plain": [
       "<Figure size 432x288 with 1 Axes>"
      ]
     },
     "metadata": {
      "needs_background": "light"
     },
     "output_type": "display_data"
    }
   ],
   "source": [
    "plt.plot(current_portfolio_value)"
   ]
  },
  {
   "cell_type": "code",
   "execution_count": 239,
   "id": "03ef5cb7",
   "metadata": {},
   "outputs": [
    {
     "data": {
      "text/plain": [
       "118.04000091552734"
      ]
     },
     "execution_count": 239,
     "metadata": {},
     "output_type": "execute_result"
    }
   ],
   "source": [
    "X_test.iloc[0].Close"
   ]
  },
  {
   "cell_type": "code",
   "execution_count": 244,
   "id": "2a7756eb",
   "metadata": {},
   "outputs": [],
   "source": [
    "money_invested = 10000\n",
    "current_portfolio = money_invested\n",
    "\n",
    "num_shares = (current_portfolio//X_test.iloc[0].Close)\n",
    "current_portfolio = current_portfolio - num_shares * X_test.iloc[0].Close"
   ]
  },
  {
   "cell_type": "code",
   "execution_count": 245,
   "id": "b4c60cf3",
   "metadata": {},
   "outputs": [
    {
     "data": {
      "text/plain": [
       "84.0"
      ]
     },
     "execution_count": 245,
     "metadata": {},
     "output_type": "execute_result"
    }
   ],
   "source": [
    "num_shares"
   ]
  },
  {
   "cell_type": "code",
   "execution_count": 246,
   "id": "82f5dc63",
   "metadata": {},
   "outputs": [
    {
     "data": {
      "text/plain": [
       "84.63992309570312"
      ]
     },
     "execution_count": 246,
     "metadata": {},
     "output_type": "execute_result"
    }
   ],
   "source": [
    "current_portfolio"
   ]
  },
  {
   "cell_type": "code",
   "execution_count": 248,
   "id": "3de61cfe",
   "metadata": {},
   "outputs": [
    {
     "data": {
      "text/plain": [
       "10000.0"
      ]
     },
     "execution_count": 248,
     "metadata": {},
     "output_type": "execute_result"
    }
   ],
   "source": [
    "num_shares * X_test.iloc[0].Close + current_portfolio"
   ]
  },
  {
   "cell_type": "code",
   "execution_count": 238,
   "id": "10f2083f",
   "metadata": {},
   "outputs": [
    {
     "data": {
      "text/plain": [
       "[19.040000915527344,\n",
       " 9.840011596679688,\n",
       " 1.7899932861328125,\n",
       " 3.8300018310546875,\n",
       " -1.04998779296875,\n",
       " 6.0099945068359375,\n",
       " 0.1699981689453125,\n",
       " 1.8600006103515625,\n",
       " 2.0999908447265625,\n",
       " 1.779998779296875,\n",
       " 9.089996337890625,\n",
       " 0.3000030517578125,\n",
       " -8.110000610351562,\n",
       " 9.739990234375,\n",
       " 2.899993896484375,\n",
       " 7.670013427734375,\n",
       " -2.2599945068359375]"
      ]
     },
     "execution_count": 238,
     "metadata": {},
     "output_type": "execute_result"
    }
   ],
   "source": [
    "trades"
   ]
  },
  {
   "cell_type": "code",
   "execution_count": 232,
   "id": "f5248a9a",
   "metadata": {},
   "outputs": [
    {
     "data": {
      "text/plain": [
       "1.0"
      ]
     },
     "execution_count": 232,
     "metadata": {},
     "output_type": "execute_result"
    }
   ],
   "source": [
    "X_test.iloc[0]['buy_signal']"
   ]
  },
  {
   "cell_type": "code",
   "execution_count": 118,
   "id": "37ff6cfd",
   "metadata": {},
   "outputs": [
    {
     "data": {
      "text/html": [
       "<div>\n",
       "<style scoped>\n",
       "    .dataframe tbody tr th:only-of-type {\n",
       "        vertical-align: middle;\n",
       "    }\n",
       "\n",
       "    .dataframe tbody tr th {\n",
       "        vertical-align: top;\n",
       "    }\n",
       "\n",
       "    .dataframe thead th {\n",
       "        text-align: right;\n",
       "    }\n",
       "</style>\n",
       "<table border=\"1\" class=\"dataframe\">\n",
       "  <thead>\n",
       "    <tr style=\"text-align: right;\">\n",
       "      <th></th>\n",
       "      <th>0</th>\n",
       "    </tr>\n",
       "  </thead>\n",
       "  <tbody>\n",
       "    <tr>\n",
       "      <th>303</th>\n",
       "      <td>-0.039229</td>\n",
       "    </tr>\n",
       "    <tr>\n",
       "      <th>302</th>\n",
       "      <td>-0.038053</td>\n",
       "    </tr>\n",
       "    <tr>\n",
       "      <th>376</th>\n",
       "      <td>-0.035980</td>\n",
       "    </tr>\n",
       "    <tr>\n",
       "      <th>437</th>\n",
       "      <td>-0.034591</td>\n",
       "    </tr>\n",
       "    <tr>\n",
       "      <th>436</th>\n",
       "      <td>-0.034591</td>\n",
       "    </tr>\n",
       "    <tr>\n",
       "      <th>...</th>\n",
       "      <td>...</td>\n",
       "    </tr>\n",
       "    <tr>\n",
       "      <th>368</th>\n",
       "      <td>0.145424</td>\n",
       "    </tr>\n",
       "    <tr>\n",
       "      <th>369</th>\n",
       "      <td>0.145424</td>\n",
       "    </tr>\n",
       "    <tr>\n",
       "      <th>366</th>\n",
       "      <td>0.146148</td>\n",
       "    </tr>\n",
       "    <tr>\n",
       "      <th>438</th>\n",
       "      <td>0.146148</td>\n",
       "    </tr>\n",
       "    <tr>\n",
       "      <th>440</th>\n",
       "      <td>0.146941</td>\n",
       "    </tr>\n",
       "  </tbody>\n",
       "</table>\n",
       "<p>455 rows × 1 columns</p>\n",
       "</div>"
      ],
      "text/plain": [
       "            0\n",
       "303 -0.039229\n",
       "302 -0.038053\n",
       "376 -0.035980\n",
       "437 -0.034591\n",
       "436 -0.034591\n",
       "..        ...\n",
       "368  0.145424\n",
       "369  0.145424\n",
       "366  0.146148\n",
       "438  0.146148\n",
       "440  0.146941\n",
       "\n",
       "[455 rows x 1 columns]"
      ]
     },
     "execution_count": 118,
     "metadata": {},
     "output_type": "execute_result"
    }
   ],
   "source": [
    "test.sort_values(by = 0)"
   ]
  },
  {
   "cell_type": "code",
   "execution_count": 121,
   "id": "6541daea",
   "metadata": {},
   "outputs": [
    {
     "data": {
      "text/plain": [
       "[<matplotlib.lines.Line2D at 0x12bea6370>]"
      ]
     },
     "execution_count": 121,
     "metadata": {},
     "output_type": "execute_result"
    },
    {
     "data": {
      "image/png": "[encoded data removed]",
      "text/plain": [
       "<Figure size 432x288 with 1 Axes>"
      ]
     },
     "metadata": {
      "needs_background": "light"
     },
     "output_type": "display_data"
    }
   ],
   "source": [
    "plt.plot(test)"
   ]
  },
  {
   "cell_type": "code",
   "execution_count": 33,
   "id": "cb1020e5",
   "metadata": {},
   "outputs": [
    {
     "data": {
      "text/html": [
       "<div>\n",
       "<style scoped>\n",
       "    .dataframe tbody tr th:only-of-type {\n",
       "        vertical-align: middle;\n",
       "    }\n",
       "\n",
       "    .dataframe tbody tr th {\n",
       "        vertical-align: top;\n",
       "    }\n",
       "\n",
       "    .dataframe thead th {\n",
       "        text-align: right;\n",
       "    }\n",
       "</style>\n",
       "<table border=\"1\" class=\"dataframe\">\n",
       "  <thead>\n",
       "    <tr style=\"text-align: right;\">\n",
       "      <th></th>\n",
       "      <th>AXP_Open</th>\n",
       "      <th>AXP_High</th>\n",
       "      <th>AXP_Low</th>\n",
       "      <th>AXP_Close</th>\n",
       "      <th>AXP_Adj Close</th>\n",
       "      <th>AXP_Volume</th>\n",
       "    </tr>\n",
       "    <tr>\n",
       "      <th>Date</th>\n",
       "      <th></th>\n",
       "      <th></th>\n",
       "      <th></th>\n",
       "      <th></th>\n",
       "      <th></th>\n",
       "      <th></th>\n",
       "    </tr>\n",
       "  </thead>\n",
       "  <tbody>\n",
       "    <tr>\n",
       "      <th>2014-12-31</th>\n",
       "      <td>94.650002</td>\n",
       "      <td>94.750000</td>\n",
       "      <td>93.000000</td>\n",
       "      <td>93.040001</td>\n",
       "      <td>82.503960</td>\n",
       "      <td>2306200</td>\n",
       "    </tr>\n",
       "    <tr>\n",
       "      <th>2015-01-02</th>\n",
       "      <td>93.169998</td>\n",
       "      <td>93.940002</td>\n",
       "      <td>92.139999</td>\n",
       "      <td>93.019997</td>\n",
       "      <td>82.486229</td>\n",
       "      <td>2437500</td>\n",
       "    </tr>\n",
       "    <tr>\n",
       "      <th>2015-01-05</th>\n",
       "      <td>92.459999</td>\n",
       "      <td>92.779999</td>\n",
       "      <td>90.320000</td>\n",
       "      <td>90.559998</td>\n",
       "      <td>80.304817</td>\n",
       "      <td>3469600</td>\n",
       "    </tr>\n",
       "    <tr>\n",
       "      <th>2015-01-06</th>\n",
       "      <td>90.790001</td>\n",
       "      <td>90.900002</td>\n",
       "      <td>87.940002</td>\n",
       "      <td>88.629997</td>\n",
       "      <td>78.593353</td>\n",
       "      <td>4800300</td>\n",
       "    </tr>\n",
       "    <tr>\n",
       "      <th>2015-01-07</th>\n",
       "      <td>91.010002</td>\n",
       "      <td>91.010002</td>\n",
       "      <td>89.529999</td>\n",
       "      <td>90.300003</td>\n",
       "      <td>80.309822</td>\n",
       "      <td>5665200</td>\n",
       "    </tr>\n",
       "    <tr>\n",
       "      <th>...</th>\n",
       "      <td>...</td>\n",
       "      <td>...</td>\n",
       "      <td>...</td>\n",
       "      <td>...</td>\n",
       "      <td>...</td>\n",
       "      <td>...</td>\n",
       "    </tr>\n",
       "    <tr>\n",
       "      <th>2022-10-19</th>\n",
       "      <td>145.429993</td>\n",
       "      <td>147.070007</td>\n",
       "      <td>142.600006</td>\n",
       "      <td>143.970001</td>\n",
       "      <td>143.970001</td>\n",
       "      <td>2803900</td>\n",
       "    </tr>\n",
       "    <tr>\n",
       "      <th>2022-10-20</th>\n",
       "      <td>144.000000</td>\n",
       "      <td>147.320007</td>\n",
       "      <td>142.149994</td>\n",
       "      <td>142.419998</td>\n",
       "      <td>142.419998</td>\n",
       "      <td>4319300</td>\n",
       "    </tr>\n",
       "    <tr>\n",
       "      <th>2022-10-21</th>\n",
       "      <td>140.990005</td>\n",
       "      <td>141.320007</td>\n",
       "      <td>132.210007</td>\n",
       "      <td>140.039993</td>\n",
       "      <td>140.039993</td>\n",
       "      <td>11745300</td>\n",
       "    </tr>\n",
       "    <tr>\n",
       "      <th>2022-10-24</th>\n",
       "      <td>141.300003</td>\n",
       "      <td>143.789993</td>\n",
       "      <td>140.369995</td>\n",
       "      <td>141.630005</td>\n",
       "      <td>141.630005</td>\n",
       "      <td>4299600</td>\n",
       "    </tr>\n",
       "    <tr>\n",
       "      <th>2022-10-25</th>\n",
       "      <td>142.479996</td>\n",
       "      <td>147.440002</td>\n",
       "      <td>141.600006</td>\n",
       "      <td>147.020004</td>\n",
       "      <td>147.020004</td>\n",
       "      <td>3879000</td>\n",
       "    </tr>\n",
       "  </tbody>\n",
       "</table>\n",
       "<p>1969 rows × 6 columns</p>\n",
       "</div>"
      ],
      "text/plain": [
       "              AXP_Open    AXP_High     AXP_Low   AXP_Close  AXP_Adj Close  \\\n",
       "Date                                                                        \n",
       "2014-12-31   94.650002   94.750000   93.000000   93.040001      82.503960   \n",
       "2015-01-02   93.169998   93.940002   92.139999   93.019997      82.486229   \n",
       "2015-01-05   92.459999   92.779999   90.320000   90.559998      80.304817   \n",
       "2015-01-06   90.790001   90.900002   87.940002   88.629997      78.593353   \n",
       "2015-01-07   91.010002   91.010002   89.529999   90.300003      80.309822   \n",
       "...                ...         ...         ...         ...            ...   \n",
       "2022-10-19  145.429993  147.070007  142.600006  143.970001     143.970001   \n",
       "2022-10-20  144.000000  147.320007  142.149994  142.419998     142.419998   \n",
       "2022-10-21  140.990005  141.320007  132.210007  140.039993     140.039993   \n",
       "2022-10-24  141.300003  143.789993  140.369995  141.630005     141.630005   \n",
       "2022-10-25  142.479996  147.440002  141.600006  147.020004     147.020004   \n",
       "\n",
       "            AXP_Volume  \n",
       "Date                    \n",
       "2014-12-31     2306200  \n",
       "2015-01-02     2437500  \n",
       "2015-01-05     3469600  \n",
       "2015-01-06     4800300  \n",
       "2015-01-07     5665200  \n",
       "...                ...  \n",
       "2022-10-19     2803900  \n",
       "2022-10-20     4319300  \n",
       "2022-10-21    11745300  \n",
       "2022-10-24     4299600  \n",
       "2022-10-25     3879000  \n",
       "\n",
       "[1969 rows x 6 columns]"
      ]
     },
     "execution_count": 33,
     "metadata": {},
     "output_type": "execute_result"
    }
   ],
   "source": [
    "df = add_ticker_name(df, 'AXP')\n"
   ]
  },
  {
   "cell_type": "code",
   "execution_count": 20,
   "id": "804c1607",
   "metadata": {},
   "outputs": [
    {
     "name": "stdout",
     "output_type": "stream",
     "text": [
      "AXP\n",
      "AMGN\n",
      "AAPL\n",
      "BA\n",
      "CAT\n",
      "CSCO\n",
      "CVX\n",
      "GS\n",
      "HD\n",
      "HON\n",
      "IBM\n",
      "INTC\n",
      "JNJ\n",
      "KO\n",
      "JPM\n",
      "MCD\n",
      "MMM\n",
      "MRK\n",
      "MSFT\n",
      "NKE\n",
      "PG\n",
      "TRV\n",
      "UNH\n",
      "CRM\n",
      "VZ\n",
      "V\n",
      "WBA\n",
      "WMT\n",
      "DIS\n",
      "DOW\n"
     ]
    }
   ],
   "source": [
    "df = \n",
    "for tic in dow_30_tickers[1:]:\n",
    "    print(tic)\n",
    "    test = yf.download(tic, \n",
    "                      start='2019-01-01', \n",
    "                      end='2019-12-31', \n",
    "                      progress=False)\n"
   ]
  },
  {
   "cell_type": "code",
   "execution_count": 22,
   "id": "c84ce9bd",
   "metadata": {},
   "outputs": [
    {
     "data": {
      "text/plain": [
       "30"
      ]
     },
     "execution_count": 22,
     "metadata": {},
     "output_type": "execute_result"
    }
   ],
   "source": [
    "len(dow_30_tickers)"
   ]
  },
  {
   "cell_type": "code",
   "execution_count": null,
   "id": "944a5e68",
   "metadata": {},
   "outputs": [],
   "source": []
  }
 ],
 "metadata": {
  "kernelspec": {
   "display_name": "Python 3 (ipykernel)",
   "language": "python",
   "name": "python3"
  },
  "language_info": {
   "codemirror_mode": {
    "name": "ipython",
    "version": 3
   },
   "file_extension": ".py",
   "mimetype": "text/x-python",
   "name": "python",
   "nbconvert_exporter": "python",
   "pygments_lexer": "ipython3",
   "version": "3.9.10"
  }
 },
 "nbformat": 4,
 "nbformat_minor": 5
}
