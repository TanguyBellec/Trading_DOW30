{
 "cells": [
  {
   "cell_type": "code",
   "execution_count": 89,
   "id": "48d34ad9",
   "metadata": {},
   "outputs": [],
   "source": [
    "import yfinance as yf\n",
    "import pandas as pd\n",
    "import numpy as np\n",
    "\n",
    "import matplotlib.pyplot as plt"
   ]
  },
  {
   "cell_type": "code",
   "execution_count": 6,
   "id": "b3acff17",
   "metadata": {},
   "outputs": [
    {
     "data": {
      "text/html": [
       "<div>\n",
       "<style scoped>\n",
       "    .dataframe tbody tr th:only-of-type {\n",
       "        vertical-align: middle;\n",
       "    }\n",
       "\n",
       "    .dataframe tbody tr th {\n",
       "        vertical-align: top;\n",
       "    }\n",
       "\n",
       "    .dataframe thead th {\n",
       "        text-align: right;\n",
       "    }\n",
       "</style>\n",
       "<table border=\"1\" class=\"dataframe\">\n",
       "  <thead>\n",
       "    <tr style=\"text-align: right;\">\n",
       "      <th></th>\n",
       "      <th>Open</th>\n",
       "      <th>High</th>\n",
       "      <th>Low</th>\n",
       "      <th>Close</th>\n",
       "      <th>Adj Close</th>\n",
       "      <th>Volume</th>\n",
       "    </tr>\n",
       "    <tr>\n",
       "      <th>Date</th>\n",
       "      <th></th>\n",
       "      <th></th>\n",
       "      <th></th>\n",
       "      <th></th>\n",
       "      <th></th>\n",
       "      <th></th>\n",
       "    </tr>\n",
       "  </thead>\n",
       "  <tbody>\n",
       "    <tr>\n",
       "      <th>2018-12-31</th>\n",
       "      <td>22.519333</td>\n",
       "      <td>22.614000</td>\n",
       "      <td>21.684000</td>\n",
       "      <td>22.186666</td>\n",
       "      <td>22.186666</td>\n",
       "      <td>94534500</td>\n",
       "    </tr>\n",
       "    <tr>\n",
       "      <th>2019-01-02</th>\n",
       "      <td>20.406668</td>\n",
       "      <td>21.008667</td>\n",
       "      <td>19.920000</td>\n",
       "      <td>20.674667</td>\n",
       "      <td>20.674667</td>\n",
       "      <td>174879000</td>\n",
       "    </tr>\n",
       "    <tr>\n",
       "      <th>2019-01-03</th>\n",
       "      <td>20.466667</td>\n",
       "      <td>20.626667</td>\n",
       "      <td>19.825333</td>\n",
       "      <td>20.024000</td>\n",
       "      <td>20.024000</td>\n",
       "      <td>104478000</td>\n",
       "    </tr>\n",
       "    <tr>\n",
       "      <th>2019-01-04</th>\n",
       "      <td>20.400000</td>\n",
       "      <td>21.200001</td>\n",
       "      <td>20.181999</td>\n",
       "      <td>21.179333</td>\n",
       "      <td>21.179333</td>\n",
       "      <td>110911500</td>\n",
       "    </tr>\n",
       "    <tr>\n",
       "      <th>2019-01-07</th>\n",
       "      <td>21.448000</td>\n",
       "      <td>22.449333</td>\n",
       "      <td>21.183332</td>\n",
       "      <td>22.330667</td>\n",
       "      <td>22.330667</td>\n",
       "      <td>113268000</td>\n",
       "    </tr>\n",
       "  </tbody>\n",
       "</table>\n",
       "</div>"
      ],
      "text/plain": [
       "                 Open       High        Low      Close  Adj Close     Volume\n",
       "Date                                                                        \n",
       "2018-12-31  22.519333  22.614000  21.684000  22.186666  22.186666   94534500\n",
       "2019-01-02  20.406668  21.008667  19.920000  20.674667  20.674667  174879000\n",
       "2019-01-03  20.466667  20.626667  19.825333  20.024000  20.024000  104478000\n",
       "2019-01-04  20.400000  21.200001  20.181999  21.179333  21.179333  110911500\n",
       "2019-01-07  21.448000  22.449333  21.183332  22.330667  22.330667  113268000"
      ]
     },
     "execution_count": 6,
     "metadata": {},
     "output_type": "execute_result"
    }
   ],
   "source": [
    "tsla_df = yf.download('TSLA', \n",
    "                      start='2019-01-01', \n",
    "                      end='2019-12-31', \n",
    "                      progress=False)\n",
    "tsla_df.head()"
   ]
  },
  {
   "cell_type": "code",
   "execution_count": 18,
   "id": "644c83db",
   "metadata": {},
   "outputs": [],
   "source": [
    "dow_30_tickers = ['AXP', 'AMGN', 'AAPL', 'BA', 'CAT', 'CSCO',\n",
    "                 'CVX', 'GS', 'HD', 'HON', 'IBM', 'INTC', 'JNJ',\n",
    "                 'KO', 'JPM', 'MCD', 'MMM', 'MRK', 'MSFT', \n",
    "                 'NKE', 'PG', 'TRV', 'UNH', 'CRM', 'VZ', 'V',\n",
    "                 'WBA', 'WMT', 'DIS', 'DOW']"
   ]
  },
  {
   "cell_type": "code",
   "execution_count": 34,
   "id": "f1dcc291",
   "metadata": {},
   "outputs": [],
   "source": [
    "def add_ticker_name(df, ticker):\n",
    "    df.set_axis([ticker + '_' + col for col in list(df.columns)], axis=1, inplace=True)\n",
    "    return df"
   ]
  },
  {
   "cell_type": "markdown",
   "id": "5cf38d8a",
   "metadata": {},
   "source": [
    "On va commencer par prendre un df avec 2 stock, on va calculer les indic (mva, rsi etc) et tout les jours en acheter un et short l'autre"
   ]
  },
  {
   "cell_type": "code",
   "execution_count": 76,
   "id": "d6ac524e",
   "metadata": {
    "scrolled": true
   },
   "outputs": [
    {
     "name": "stdout",
     "output_type": "stream",
     "text": [
      "[*********************100%***********************]  1 of 1 completed\n"
     ]
    }
   ],
   "source": [
    "df = yf.download('AXP', start = '2015-01-01')"
   ]
  },
  {
   "cell_type": "code",
   "execution_count": 120,
   "id": "dc2f63c4",
   "metadata": {},
   "outputs": [],
   "source": [
    "### Functions to get classical Technical Trading indicators\n",
    "\n",
    "# Simple Moving Average \n",
    "def SMA(data, ndays): \n",
    "    data['SMA_'+str(ndays)] = pd.Series(data['Close'].rolling(ndays).mean())\n",
    "    return data\n",
    "\n",
    "# Exponentially-weighted Moving Average \n",
    "def EWMA(data, ndays): \n",
    "    data['EWMA_' + str(ndays)] = pd.Series(data['Close'].ewm(span = ndays, min_periods = ndays - 1).mean())\n",
    "    return data\n",
    "\n",
    "def rsi(df, periods = 14):\n",
    "    \n",
    "    close = df.Close\n",
    "    close_delta = close.diff()\n",
    "\n",
    "    # Make two series: one for lower closes and one for higher closes\n",
    "    up = close_delta.clip(lower=0)\n",
    "    down = -1 * close_delta.clip(upper=0)\n",
    "    \n",
    "    ma_up = up.ewm(com = periods - 1, adjust=True, min_periods = periods).mean()\n",
    "    ma_down = down.ewm(com = periods - 1, adjust=True, min_periods = periods).mean()\n",
    "\n",
    "    rsi = ma_up / ma_down\n",
    "    rsi = 100 - (100/(1 + rsi))\n",
    "    \n",
    "    df['rsi_' + str(periods)] = rsi\n",
    "    return df\n",
    "\n",
    "def gain(x):\n",
    "    return ((x > 0) * x).sum()\n",
    "def loss(x):\n",
    "    return ((x < 0) * x).sum()\n",
    "\n",
    "\n",
    "# Calculate money flow index\n",
    "def mfi(df, n=14):\n",
    "    typical_price = (df.High + df.Low + df.Close)/3\n",
    "    money_flow = typical_price * df.Volume\n",
    "    mf_sign = np.where(typical_price > typical_price.shift(1), 1, -1)\n",
    "    signed_mf = money_flow * mf_sign\n",
    "    mf_avg_gain = signed_mf.rolling(n).apply(gain, raw=True)\n",
    "    mf_avg_loss = signed_mf.rolling(n).apply(loss, raw=True)\n",
    "    mfi = (100 - (100 / (1 + (mf_avg_gain / abs(mf_avg_loss))))).to_numpy()\n",
    "    \n",
    "    df['mfi_' + str(n)] = mfi\n",
    "    \n",
    "    return df\n",
    "    \n",
    "    # Returns ATR values\n",
    "def atr(df, n=14):\n",
    "    tr = np.amax(np.vstack(((df.High - df.Low).to_numpy(), (abs(df.High - df.Close)).to_numpy(), (abs(df.Low - df.Close)).to_numpy())).T, axis=1)    \n",
    "    atr = pd.Series(tr).rolling(n).mean().to_numpy()\n",
    "    df['atr_' + str(n)] = atr\n",
    "    return df\n",
    "\n",
    "def ForceIndex(data, ndays = 1): \n",
    "    data['ForceIndex_' + str(ndays)] = pd.Series(data['Close'].diff(ndays) * data['Volume']) \n",
    "    return data\n",
    "\n",
    "def EMV(data, ndays = 14): \n",
    "    dm = ((data['High'] + data['Low'])/2) - ((data['High'].shift(1) + data['Low'].shift(1))/2)\n",
    "    br = (data['Volume'] / 100000000) / ((data['High'] - data['Low']))\n",
    "    EMV = dm / br \n",
    "    EMV_MA = pd.Series(EMV.rolling(ndays).mean(), name = 'EMV') \n",
    "    data['EMV_MA_' + str(ndays)] = EMV_MA\n",
    "    return data "
   ]
  },
  {
   "cell_type": "code",
   "execution_count": 96,
   "id": "fcc55ef6",
   "metadata": {},
   "outputs": [
    {
     "data": {
      "image/png": "[encoded data removed]",
      "text/plain": [
       "<Figure size 720x504 with 1 Axes>"
      ]
     },
     "metadata": {
      "needs_background": "light"
     },
     "output_type": "display_data"
    }
   ],
   "source": [
    "small_df = df[df.index >= '2022-01-01']\n",
    "\n",
    "plt.figure(figsize=(10,7))\n",
    "\n",
    "# Plot close price and moving averages\n",
    "plt.plot(small_df['Close'],lw=1, label='Close Price')\n",
    "plt.plot(small_df['SMA_5'],'g',lw=1, label='50-day SMA')\n",
    "plt.plot(small_df['EWMA_5'],'r', lw=1, label='200-day EMA')\n",
    "\n",
    "plt.legend()\n",
    "plt.show()"
   ]
  },
  {
   "cell_type": "code",
   "execution_count": 153,
   "id": "2898a245",
   "metadata": {},
   "outputs": [
    {
     "data": {
      "text/plain": [
       "(5, 14)"
      ]
     },
     "execution_count": 153,
     "metadata": {},
     "output_type": "execute_result"
    }
   ],
   "source": [
    "df.head().shape"
   ]
  },
  {
   "cell_type": "code",
   "execution_count": 33,
   "id": "cb1020e5",
   "metadata": {},
   "outputs": [
    {
     "data": {
      "text/html": [
       "<div>\n",
       "<style scoped>\n",
       "    .dataframe tbody tr th:only-of-type {\n",
       "        vertical-align: middle;\n",
       "    }\n",
       "\n",
       "    .dataframe tbody tr th {\n",
       "        vertical-align: top;\n",
       "    }\n",
       "\n",
       "    .dataframe thead th {\n",
       "        text-align: right;\n",
       "    }\n",
       "</style>\n",
       "<table border=\"1\" class=\"dataframe\">\n",
       "  <thead>\n",
       "    <tr style=\"text-align: right;\">\n",
       "      <th></th>\n",
       "      <th>AXP_Open</th>\n",
       "      <th>AXP_High</th>\n",
       "      <th>AXP_Low</th>\n",
       "      <th>AXP_Close</th>\n",
       "      <th>AXP_Adj Close</th>\n",
       "      <th>AXP_Volume</th>\n",
       "    </tr>\n",
       "    <tr>\n",
       "      <th>Date</th>\n",
       "      <th></th>\n",
       "      <th></th>\n",
       "      <th></th>\n",
       "      <th></th>\n",
       "      <th></th>\n",
       "      <th></th>\n",
       "    </tr>\n",
       "  </thead>\n",
       "  <tbody>\n",
       "    <tr>\n",
       "      <th>2014-12-31</th>\n",
       "      <td>94.650002</td>\n",
       "      <td>94.750000</td>\n",
       "      <td>93.000000</td>\n",
       "      <td>93.040001</td>\n",
       "      <td>82.503960</td>\n",
       "      <td>2306200</td>\n",
       "    </tr>\n",
       "    <tr>\n",
       "      <th>2015-01-02</th>\n",
       "      <td>93.169998</td>\n",
       "      <td>93.940002</td>\n",
       "      <td>92.139999</td>\n",
       "      <td>93.019997</td>\n",
       "      <td>82.486229</td>\n",
       "      <td>2437500</td>\n",
       "    </tr>\n",
       "    <tr>\n",
       "      <th>2015-01-05</th>\n",
       "      <td>92.459999</td>\n",
       "      <td>92.779999</td>\n",
       "      <td>90.320000</td>\n",
       "      <td>90.559998</td>\n",
       "      <td>80.304817</td>\n",
       "      <td>3469600</td>\n",
       "    </tr>\n",
       "    <tr>\n",
       "      <th>2015-01-06</th>\n",
       "      <td>90.790001</td>\n",
       "      <td>90.900002</td>\n",
       "      <td>87.940002</td>\n",
       "      <td>88.629997</td>\n",
       "      <td>78.593353</td>\n",
       "      <td>4800300</td>\n",
       "    </tr>\n",
       "    <tr>\n",
       "      <th>2015-01-07</th>\n",
       "      <td>91.010002</td>\n",
       "      <td>91.010002</td>\n",
       "      <td>89.529999</td>\n",
       "      <td>90.300003</td>\n",
       "      <td>80.309822</td>\n",
       "      <td>5665200</td>\n",
       "    </tr>\n",
       "    <tr>\n",
       "      <th>...</th>\n",
       "      <td>...</td>\n",
       "      <td>...</td>\n",
       "      <td>...</td>\n",
       "      <td>...</td>\n",
       "      <td>...</td>\n",
       "      <td>...</td>\n",
       "    </tr>\n",
       "    <tr>\n",
       "      <th>2022-10-19</th>\n",
       "      <td>145.429993</td>\n",
       "      <td>147.070007</td>\n",
       "      <td>142.600006</td>\n",
       "      <td>143.970001</td>\n",
       "      <td>143.970001</td>\n",
       "      <td>2803900</td>\n",
       "    </tr>\n",
       "    <tr>\n",
       "      <th>2022-10-20</th>\n",
       "      <td>144.000000</td>\n",
       "      <td>147.320007</td>\n",
       "      <td>142.149994</td>\n",
       "      <td>142.419998</td>\n",
       "      <td>142.419998</td>\n",
       "      <td>4319300</td>\n",
       "    </tr>\n",
       "    <tr>\n",
       "      <th>2022-10-21</th>\n",
       "      <td>140.990005</td>\n",
       "      <td>141.320007</td>\n",
       "      <td>132.210007</td>\n",
       "      <td>140.039993</td>\n",
       "      <td>140.039993</td>\n",
       "      <td>11745300</td>\n",
       "    </tr>\n",
       "    <tr>\n",
       "      <th>2022-10-24</th>\n",
       "      <td>141.300003</td>\n",
       "      <td>143.789993</td>\n",
       "      <td>140.369995</td>\n",
       "      <td>141.630005</td>\n",
       "      <td>141.630005</td>\n",
       "      <td>4299600</td>\n",
       "    </tr>\n",
       "    <tr>\n",
       "      <th>2022-10-25</th>\n",
       "      <td>142.479996</td>\n",
       "      <td>147.440002</td>\n",
       "      <td>141.600006</td>\n",
       "      <td>147.020004</td>\n",
       "      <td>147.020004</td>\n",
       "      <td>3879000</td>\n",
       "    </tr>\n",
       "  </tbody>\n",
       "</table>\n",
       "<p>1969 rows × 6 columns</p>\n",
       "</div>"
      ],
      "text/plain": [
       "              AXP_Open    AXP_High     AXP_Low   AXP_Close  AXP_Adj Close  \\\n",
       "Date                                                                        \n",
       "2014-12-31   94.650002   94.750000   93.000000   93.040001      82.503960   \n",
       "2015-01-02   93.169998   93.940002   92.139999   93.019997      82.486229   \n",
       "2015-01-05   92.459999   92.779999   90.320000   90.559998      80.304817   \n",
       "2015-01-06   90.790001   90.900002   87.940002   88.629997      78.593353   \n",
       "2015-01-07   91.010002   91.010002   89.529999   90.300003      80.309822   \n",
       "...                ...         ...         ...         ...            ...   \n",
       "2022-10-19  145.429993  147.070007  142.600006  143.970001     143.970001   \n",
       "2022-10-20  144.000000  147.320007  142.149994  142.419998     142.419998   \n",
       "2022-10-21  140.990005  141.320007  132.210007  140.039993     140.039993   \n",
       "2022-10-24  141.300003  143.789993  140.369995  141.630005     141.630005   \n",
       "2022-10-25  142.479996  147.440002  141.600006  147.020004     147.020004   \n",
       "\n",
       "            AXP_Volume  \n",
       "Date                    \n",
       "2014-12-31     2306200  \n",
       "2015-01-02     2437500  \n",
       "2015-01-05     3469600  \n",
       "2015-01-06     4800300  \n",
       "2015-01-07     5665200  \n",
       "...                ...  \n",
       "2022-10-19     2803900  \n",
       "2022-10-20     4319300  \n",
       "2022-10-21    11745300  \n",
       "2022-10-24     4299600  \n",
       "2022-10-25     3879000  \n",
       "\n",
       "[1969 rows x 6 columns]"
      ]
     },
     "execution_count": 33,
     "metadata": {},
     "output_type": "execute_result"
    }
   ],
   "source": [
    "df = add_ticker_name(df, 'AXP')\n"
   ]
  },
  {
   "cell_type": "code",
   "execution_count": 20,
   "id": "804c1607",
   "metadata": {},
   "outputs": [
    {
     "name": "stdout",
     "output_type": "stream",
     "text": [
      "AXP\n",
      "AMGN\n",
      "AAPL\n",
      "BA\n",
      "CAT\n",
      "CSCO\n",
      "CVX\n",
      "GS\n",
      "HD\n",
      "HON\n",
      "IBM\n",
      "INTC\n",
      "JNJ\n",
      "KO\n",
      "JPM\n",
      "MCD\n",
      "MMM\n",
      "MRK\n",
      "MSFT\n",
      "NKE\n",
      "PG\n",
      "TRV\n",
      "UNH\n",
      "CRM\n",
      "VZ\n",
      "V\n",
      "WBA\n",
      "WMT\n",
      "DIS\n",
      "DOW\n"
     ]
    }
   ],
   "source": [
    "df = \n",
    "for tic in dow_30_tickers[1:]:\n",
    "    print(tic)\n",
    "    test = yf.download(tic, \n",
    "                      start='2019-01-01', \n",
    "                      end='2019-12-31', \n",
    "                      progress=False)\n"
   ]
  },
  {
   "cell_type": "code",
   "execution_count": 22,
   "id": "c84ce9bd",
   "metadata": {},
   "outputs": [
    {
     "data": {
      "text/plain": [
       "30"
      ]
     },
     "execution_count": 22,
     "metadata": {},
     "output_type": "execute_result"
    }
   ],
   "source": [
    "len(dow_30_tickers)"
   ]
  },
  {
   "cell_type": "code",
   "execution_count": null,
   "id": "944a5e68",
   "metadata": {},
   "outputs": [],
   "source": []
  }
 ],
 "metadata": {
  "kernelspec": {
   "display_name": "Python 3 (ipykernel)",
   "language": "python",
   "name": "python3"
  },
  "language_info": {
   "codemirror_mode": {
    "name": "ipython",
    "version": 3
   },
   "file_extension": ".py",
   "mimetype": "text/x-python",
   "name": "python",
   "nbconvert_exporter": "python",
   "pygments_lexer": "ipython3",
   "version": "3.9.10"
  }
 },
 "nbformat": 4,
 "nbformat_minor": 5
}
